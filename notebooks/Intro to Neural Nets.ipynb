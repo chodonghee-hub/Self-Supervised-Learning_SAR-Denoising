{
 "cells": [
  {
   "cell_type": "markdown",
   "metadata": {},
   "source": [
    "# Noise2Self for Neural Nets\n",
    "\n",
    "This is a simple notebook demonstrating the principle of using self-supervision to train denoising networks.\n",
    "\n",
    "For didactic purposes, we use a simple dataset (Gaussian noise on MNIST), a simple model (a small UNet), and a short training (100 iterations on a CPU). This notebook runs on a MacBook Pro in under one minute."
   ]
  },
  {
   "cell_type": "code",
   "execution_count": 1,
   "metadata": {},
   "outputs": [],
   "source": [
    "%load_ext autoreload\n",
    "%autoreload 2"
   ]
  },
  {
   "cell_type": "code",
   "execution_count": 2,
   "metadata": {},
   "outputs": [],
   "source": [
    "import sys\n",
    "sys.path.append(\"..\")"
   ]
  },
  {
   "cell_type": "code",
   "execution_count": 3,
   "metadata": {},
   "outputs": [],
   "source": [
    "from util import show, plot_images, plot_tensors"
   ]
  },
  {
   "cell_type": "markdown",
   "metadata": {},
   "source": [
    "# Data"
   ]
  },
  {
   "cell_type": "markdown",
   "metadata": {},
   "source": [
    "We demonstrate the use of a self-supervised denoising objective on a synthetically noised version of MNIST."
   ]
  },
  {
   "cell_type": "code",
   "execution_count": 4,
   "metadata": {},
   "outputs": [],
   "source": [
    "from torchvision.datasets import MNIST\n",
    "from torchvision import transforms\n",
    "from torch.utils.data import Dataset\n",
    "\n",
    "mnist_train = MNIST('../data/MNIST', download = True,\n",
    "                    transform = transforms.Compose([\n",
    "                        transforms.ToTensor(),\n",
    "                    ]), train = True)\n",
    "\n",
    "mnist_test = MNIST('../data/MNIST', download = True,\n",
    "                    transform = transforms.Compose([\n",
    "                        transforms.ToTensor(),\n",
    "                    ]), train = False)"
   ]
  },
  {
   "cell_type": "code",
   "execution_count": 5,
   "metadata": {},
   "outputs": [],
   "source": [
    "from torch import randn\n",
    "def add_noise(img):\n",
    "    return img + randn(img.size())*0.4\n",
    "\n",
    "class SyntheticNoiseDataset(Dataset):\n",
    "    def __init__(self, data, mode='train'):\n",
    "        self.mode = mode\n",
    "        self.data = data\n",
    "        \n",
    "    def __len__(self):\n",
    "        return len(self.data)\n",
    "    \n",
    "    def __getitem__(self, index):\n",
    "        img = self.data[index][0]\n",
    "        return add_noise(img), img"
   ]
  },
  {
   "cell_type": "code",
   "execution_count": 6,
   "metadata": {},
   "outputs": [],
   "source": [
    "noisy_mnist_train = SyntheticNoiseDataset(mnist_train, 'train')\n",
    "noisy_mnist_test = SyntheticNoiseDataset(mnist_test, 'test')"
   ]
  },
  {
   "cell_type": "markdown",
   "metadata": {},
   "source": [
    "We will try to learn to predict the clean image on the right from the noisy image on the left."
   ]
  },
  {
   "cell_type": "code",
   "execution_count": 7,
   "metadata": {},
   "outputs": [
    {
     "data": {
      "image/png": "[encoded data removed]",
      "text/plain": [
       "<Figure size 576x288 with 2 Axes>"
      ]
     },
     "metadata": {},
     "output_type": "display_data"
    }
   ],
   "source": [
    "noisy, clean = noisy_mnist_train[0]\n",
    "plot_tensors([noisy[0], clean[0]], ['Noisy Image', 'Clean Image'])"
   ]
  },
  {
   "cell_type": "markdown",
   "metadata": {},
   "source": [
    "# Masking\n",
    "\n",
    "The strategy is to train a $J$-invariant version of a neural net by replacing a grid of pixels with the average of their neighbors, then only evaluating the model on the masked pixels."
   ]
  },
  {
   "cell_type": "code",
   "execution_count": 8,
   "metadata": {},
   "outputs": [],
   "source": [
    "from mask import Masker\n",
    "masker = Masker(width = 4, mode='interpolate')"
   ]
  },
  {
   "cell_type": "code",
   "execution_count": 9,
   "metadata": {},
   "outputs": [],
   "source": [
    "net_input, mask = masker.mask(noisy.unsqueeze(0), 0)"
   ]
  },
  {
   "cell_type": "markdown",
   "metadata": {},
   "source": [
    "A mask; the data; the input to the neural net, which doesn't depend on the values of $x$ inside the mask; and the difference between the neural net input and $x$."
   ]
  },
  {
   "cell_type": "code",
   "execution_count": 10,
   "metadata": {},
   "outputs": [
    {
     "data": {
      "image/png": "[encoded data removed]",
      "text/plain": [
       "<Figure size 1152x288 with 4 Axes>"
      ]
     },
     "metadata": {},
     "output_type": "display_data"
    }
   ],
   "source": [
    "plot_tensors([mask, noisy[0], net_input[0], net_input[0] - noisy[0]],\n",
    "            [\"Mask\", \"Noisy Image\", \"Neural Net Input\", \"Difference\"])"
   ]
  },
  {
   "cell_type": "markdown",
   "metadata": {},
   "source": [
    "# Model"
   ]
  },
  {
   "cell_type": "markdown",
   "metadata": {},
   "source": [
    "For our model, we use a short UNet with two levels of up- and down- sampling"
   ]
  },
  {
   "cell_type": "code",
   "execution_count": 11,
   "metadata": {},
   "outputs": [],
   "source": [
    "from models.babyunet import BabyUnet\n",
    "model = BabyUnet()"
   ]
  },
  {
   "cell_type": "markdown",
   "metadata": {},
   "source": [
    "# Training"
   ]
  },
  {
   "cell_type": "code",
   "execution_count": 12,
   "metadata": {},
   "outputs": [],
   "source": [
    "from torch.nn import MSELoss\n",
    "from torch.optim import Adam\n",
    "from torch.utils.data import DataLoader\n",
    "\n",
    "loss_function = MSELoss()\n",
    "optimizer = Adam(model.parameters(), lr=0.001)"
   ]
  },
  {
   "cell_type": "code",
   "execution_count": 13,
   "metadata": {},
   "outputs": [
    {
     "name": "stderr",
     "output_type": "stream",
     "text": [
      "/Users/josh/anaconda3/envs/n2s/lib/python3.7/site-packages/torch/nn/functional.py:2423: UserWarning: Default upsampling behavior when mode=bilinear is changed to align_corners=False since 0.4.0. Please specify align_corners=True if the old behavior is desired. See the documentation of nn.Upsample for details.\n",
      "  \"See the documentation of nn.Upsample for details.\".format(mode))\n"
     ]
    },
    {
     "name": "stdout",
     "output_type": "stream",
     "text": [
      "Loss ( 0 ):  0.056\n",
      "Loss ( 10 ):  0.02\n",
      "Loss ( 20 ):  0.0152\n",
      "Loss ( 30 ):  0.0133\n",
      "Loss ( 40 ):  0.0135\n",
      "Loss ( 50 ):  0.0123\n",
      "Loss ( 60 ):  0.012\n",
      "Loss ( 70 ):  0.0112\n",
      "Loss ( 80 ):  0.0113\n",
      "Loss ( 90 ):  0.0117\n",
      "Loss ( 100 ):  0.0111\n"
     ]
    }
   ],
   "source": [
    "data_loader = DataLoader(noisy_mnist_train, batch_size=32, shuffle=True)\n",
    "\n",
    "for i, batch in enumerate(data_loader):\n",
    "    noisy_images, clean_images = batch\n",
    "    \n",
    "    net_input, mask = masker.mask(noisy_images, i)\n",
    "    net_output = model(net_input)\n",
    "    \n",
    "    loss = loss_function(net_output*mask, noisy_images*mask)\n",
    "    \n",
    "    optimizer.zero_grad()\n",
    " \n",
    "    loss.backward()\n",
    "    \n",
    "    optimizer.step()\n",
    "    \n",
    "    if i % 10 == 0:\n",
    "        print(\"Loss (\", i, \"): \\t\", round(loss.item(), 4))\n",
    "        \n",
    "    if i == 100:\n",
    "        break"
   ]
  },
  {
   "cell_type": "code",
   "execution_count": 14,
   "metadata": {},
   "outputs": [],
   "source": [
    "test_data_loader = DataLoader(noisy_mnist_test,\n",
    "                                              batch_size=32,\n",
    "                                              shuffle=False,\n",
    "                                              num_workers=3)\n",
    "i, test_batch = next(enumerate(test_data_loader))\n",
    "noisy, clean = test_batch"
   ]
  },
  {
   "cell_type": "markdown",
   "metadata": {},
   "source": [
    "With our trained model, we have a choice. We may do a full $J$-invariant reconstruction, or we may just run the noisy data through the network unaltered."
   ]
  },
  {
   "cell_type": "code",
   "execution_count": 15,
   "metadata": {},
   "outputs": [],
   "source": [
    "simple_output = model(noisy)\n",
    "invariant_output = masker.infer_full_image(noisy, model)"
   ]
  },
  {
   "cell_type": "code",
   "execution_count": 16,
   "metadata": {},
   "outputs": [
    {
     "data": {
      "image/png": "[encoded data removed]",
      "text/plain": [
       "<Figure size 1152x288 with 4 Axes>"
      ]
     },
     "metadata": {},
     "output_type": "display_data"
    }
   ],
   "source": [
    "idx = 3\n",
    "plot_tensors([clean[idx], noisy[idx], simple_output[idx], invariant_output[idx]],\n",
    "            [\"Ground Truth\", \"Noisy Image\", \"Single Pass Inference\", \"J-Invariant Inference\"])"
   ]
  },
  {
   "cell_type": "code",
   "execution_count": 17,
   "metadata": {},
   "outputs": [
    {
     "name": "stdout",
     "output_type": "stream",
     "text": [
      "Test loss, single pass:  0.017\n",
      "Test loss, J-invariant:  0.021\n"
     ]
    }
   ],
   "source": [
    "print(\"Test loss, single pass: \", round(loss_function(clean, simple_output).item(), 3))\n",
    "print(\"Test loss, J-invariant: \", round(loss_function(clean, invariant_output).item(), 3))"
   ]
  },
  {
   "cell_type": "markdown",
   "metadata": {},
   "source": [
    "While both the simple and invariant output are significantly denoised, the invariant output has a mild pixelation. \n",
    "\n",
    "This is due to the fact that neighboring pixels are denoised using different information, leading to discontinuities in the reconstructed output."
   ]
  }
 ],
 "metadata": {
  "kernelspec": {
   "display_name": "Python 3.10.5 64-bit (windows store)",
   "language": "python",
   "name": "python3"
  },
  "language_info": {
   "codemirror_mode": {
    "name": "ipython",
    "version": 3
   },
   "file_extension": ".py",
   "mimetype": "text/x-python",
   "name": "python",
   "nbconvert_exporter": "python",
   "pygments_lexer": "ipython3",
   "version": "3.10.5"
  },
  "vscode": {
   "interpreter": {
    "hash": "e05d4d356e2e751c8ff7d58c9a2a228b6b8a79db382b927e3773744fd57ca6e5"
   }
  }
 },
 "nbformat": 4,
 "nbformat_minor": 2
}
