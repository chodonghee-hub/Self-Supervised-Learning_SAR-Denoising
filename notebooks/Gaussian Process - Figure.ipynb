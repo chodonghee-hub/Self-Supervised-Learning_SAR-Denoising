{
 "cells": [
  {
   "cell_type": "code",
   "execution_count": 25,
   "metadata": {},
   "outputs": [],
   "source": [
    "import numpy as np\n",
    "import matplotlib.pyplot as plt"
   ]
  },
  {
   "cell_type": "code",
   "execution_count": 26,
   "metadata": {},
   "outputs": [],
   "source": [
    "import sys\n",
    "sys.path.append(\"..\")"
   ]
  },
  {
   "cell_type": "code",
   "execution_count": 27,
   "metadata": {},
   "outputs": [
    {
     "name": "stdout",
     "output_type": "stream",
     "text": [
      "The autoreload extension is already loaded. To reload it, use:\n",
      "  %reload_ext autoreload\n"
     ]
    }
   ],
   "source": [
    "%load_ext autoreload\n",
    "%autoreload 2"
   ]
  },
  {
   "cell_type": "code",
   "execution_count": 28,
   "metadata": {},
   "outputs": [],
   "source": [
    "from util import plot_grid, plot_images"
   ]
  },
  {
   "cell_type": "code",
   "execution_count": 29,
   "metadata": {},
   "outputs": [],
   "source": [
    "from gaussianprocess.gp import sample_rbe_gp, gaussian_process_posterior, grid_distances, rbe_kernel\n",
    "from skimage.restoration import denoise_nl_means, estimate_sigma"
   ]
  },
  {
   "cell_type": "code",
   "execution_count": 30,
   "metadata": {},
   "outputs": [],
   "source": [
    "dir = '../figs/theory/'"
   ]
  },
  {
   "cell_type": "code",
   "execution_count": 31,
   "metadata": {},
   "outputs": [],
   "source": [
    "def expand(x, r):\n",
    "    return np.repeat(np.repeat(x, r, axis = 0), r, axis = 1)"
   ]
  },
  {
   "cell_type": "markdown",
   "metadata": {},
   "source": [
    "# Example Inferences"
   ]
  },
  {
   "cell_type": "code",
   "execution_count": 32,
   "metadata": {},
   "outputs": [],
   "source": [
    "from gaussianprocess.gp import GPDataset"
   ]
  },
  {
   "cell_type": "code",
   "execution_count": 33,
   "metadata": {},
   "outputs": [],
   "source": [
    "size = 21\n",
    "N = size*size\n",
    "n_samples = 2\n",
    "noise_std = 0.5"
   ]
  },
  {
   "cell_type": "code",
   "execution_count": 34,
   "metadata": {},
   "outputs": [],
   "source": [
    "length_scale = 1.0\n",
    "\n",
    "np.random.seed(1)\n",
    "data = GPDataset(size, length_scale, n_samples, noise_std, torus=True)\n",
    "y_from_x = data.conv_denoise()\n",
    "y_from_x_mask = data.conv_denoise_mask()\n",
    "y_from_y_mask = data.conv_denoise_mask(noise=False)\n",
    "vmax = np.abs(data.X[0]).max()\n",
    "vmin = -vmax"
   ]
  },
  {
   "cell_type": "code",
   "execution_count": 35,
   "metadata": {},
   "outputs": [
    {
     "name": "stderr",
     "output_type": "stream",
     "text": [
      "../gaussianprocess/gp.py:95: RuntimeWarning: covariance is not symmetric positive-semidefinite.\n",
      "  y = np.random.multivariate_normal(np.zeros(N), self.K, size=samples)\n"
     ]
    }
   ],
   "source": [
    "for length_scale in [1, 2, 3]:\n",
    "\n",
    "    np.random.seed(1)\n",
    "    data = GPDataset(size, length_scale, n_samples, noise_std, torus=True)\n",
    "    y_from_x = data.conv_denoise()\n",
    "    y_from_x_mask = data.conv_denoise_mask()\n",
    "    y_from_y_mask = data.conv_denoise_mask(noise=False)\n",
    "    vmax = np.abs(data.X[0]).max()\n",
    "    vmin = -vmax\n",
    "    \n",
    "    plt.imsave(dir + 'gp_' + str(length_scale) + '_clean.png', \n",
    "               expand(data.Y[0], 3), cmap = 'magma', vmin = vmin, vmax = vmax)\n",
    "    plt.imsave(dir + 'gp_' + str(length_scale) + '_noisy.png', \n",
    "               expand(data.X[0], 3), cmap = 'magma', vmin = vmin, vmax = vmax)\n",
    "    plt.imsave(dir + 'gp_' + str(length_scale) + '_optimal.png', \n",
    "               expand(y_from_x[0], 3), cmap = 'magma', vmin = vmin, vmax = vmax)\n",
    "    plt.imsave(dir + 'gp_' + str(length_scale) + '_optimal_independent.png', \n",
    "               expand(y_from_x_mask[0], 3), cmap = 'magma', vmin = vmin, vmax = vmax)"
   ]
  },
  {
   "cell_type": "markdown",
   "metadata": {},
   "source": [
    "# Analytical expected MSE"
   ]
  },
  {
   "cell_type": "code",
   "execution_count": 36,
   "metadata": {},
   "outputs": [],
   "source": [
    "def posterior_variance(K, L, fast = True):\n",
    "    center = len(K)//2\n",
    "    return K[center, center] - K[center].dot(np.linalg.solve(K + L, K[:,center]))"
   ]
  },
  {
   "cell_type": "code",
   "execution_count": 37,
   "metadata": {},
   "outputs": [],
   "source": [
    "def posterior_variance_masked(K, L=0):\n",
    "    center = len(K)//2\n",
    "    obs = (np.arange(len(K)) != center)\n",
    "    K_y = K + L\n",
    "    K_y_obs = K_y[obs,:][:, obs]\n",
    "\n",
    "    Sigma_obs_center = K[center, center] - np.dot(K[center,obs], np.linalg.solve(K_y_obs, K[obs,center]))\n",
    "    return Sigma_obs_center"
   ]
  },
  {
   "cell_type": "code",
   "execution_count": 38,
   "metadata": {},
   "outputs": [],
   "source": [
    "length_scales = np.linspace(0.75, 3.5, 12, endpoint = False)\n",
    "noise_stds = np.linspace(0.1, 2.1, 10, endpoint = False)\n",
    "noise_stds = [0.5, 1.0, 1.5]\n",
    "\n",
    "results = {}\n",
    "\n",
    "for noise_std in noise_stds:\n",
    "    expected_mse = []\n",
    "    expected_mse_masked = []\n",
    "    expected_mse_masked_gt = []\n",
    "    for length_scale in length_scales:\n",
    "        radius = length_scale*np.sqrt(-2*np.log(1e-8))\n",
    "        size = int(max(2*radius, 32))\n",
    "        N = size*size\n",
    "        D = grid_distances(size, torus=True)\n",
    "\n",
    "        K = rbe_kernel(D, length_scale, 1).reshape(N, N)\n",
    "        L = np.eye(N) * noise_std ** 2\n",
    "        \n",
    "        expected_mse.append(posterior_variance(K, L))\n",
    "        expected_mse_masked.append(posterior_variance_masked(K, L))\n",
    "        expected_mse_masked_gt.append(posterior_variance_masked(K, np.zeros(K.shape)))\n",
    "    results[str(np.round(noise_std, 3))] = {'full': expected_mse,\n",
    "                          'masked': expected_mse_masked, 'gt_masked': expected_mse_masked_gt}"
   ]
  },
  {
   "cell_type": "code",
   "execution_count": 39,
   "metadata": {},
   "outputs": [
    {
     "data": {
      "image/png": "[encoded data removed]",
      "text/plain": [
       "<Figure size 432x288 with 1 Axes>"
      ]
     },
     "metadata": {
      "needs_background": "light"
     },
     "output_type": "display_data"
    }
   ],
   "source": [
    "plt.plot(length_scales, results['0.5']['masked'], label = 'optimal J-independent predictor')\n",
    "plt.plot(length_scales, results['0.5']['full'], label = 'optimal predictor')\n",
    "#plt.plot(length_scales, np.repeat(0.25, len(length_scales)), label = 'noise level', color = 'k', linestyle = '--')\n",
    "\n",
    "plt.xlabel('Length Scale of Gaussian Process')\n",
    "plt.ylabel('MSE')\n",
    "plt.title('Reconstruction Error')\n",
    "plt.legend()\n",
    "plt.savefig(dir + 'gaussian_mse.pdf')"
   ]
  },
  {
   "cell_type": "code",
   "execution_count": 40,
   "metadata": {},
   "outputs": [
    {
     "data": {
      "image/png": "[encoded data removed]",
      "text/plain": [
       "<Figure size 432x288 with 1 Axes>"
      ]
     },
     "metadata": {
      "needs_background": "light"
     },
     "output_type": "display_data"
    }
   ],
   "source": [
    "plt.plot(length_scales, results['0.5']['masked'], label = 'optimal J-independent predictor')\n",
    "plt.plot(length_scales, results['0.5']['full'], label = 'optimal predictor')\n",
    "\n",
    "plt.yticks([0.1, 0.5])\n",
    "\n",
    "# Hide the right and top spines\n",
    "plt.gca().spines['right'].set_visible(False)\n",
    "plt.gca().spines['top'].set_visible(False)\n",
    "plt.savefig(dir + 'gaussian_mse_bare.pdf')"
   ]
  },
  {
   "cell_type": "markdown",
   "metadata": {},
   "source": [
    "As the length scale increases, both the absolute and relative reconstruction error for the masked data decreases."
   ]
  },
  {
   "cell_type": "code",
   "execution_count": 41,
   "metadata": {},
   "outputs": [
    {
     "data": {
      "text/plain": [
       "<matplotlib.legend.Legend at 0x12d1a5780>"
      ]
     },
     "execution_count": 41,
     "metadata": {},
     "output_type": "execute_result"
    },
    {
     "data": {
      "image/png": "[encoded data removed]",
      "text/plain": [
       "<Figure size 432x288 with 1 Axes>"
      ]
     },
     "metadata": {
      "needs_background": "light"
     },
     "output_type": "display_data"
    }
   ],
   "source": [
    "plt.plot(length_scales, results['0.5']['full'], label = 'noisy data')\n",
    "plt.plot(length_scales, results['0.5']['masked'], label = 'masked noisy data')\n",
    "plt.plot(length_scales, results['0.5']['gt_masked'], label = 'masked clean data')\n",
    "\n",
    "plt.xlabel('Length Scale of Gaussian Process')\n",
    "plt.ylabel('MSE')\n",
    "plt.title('Reconstruction Error')\n",
    "plt.legend()"
   ]
  }
 ],
 "metadata": {
  "kernelspec": {
   "display_name": "Python 3.10.5 64-bit (windows store)",
   "language": "python",
   "name": "python3"
  },
  "language_info": {
   "codemirror_mode": {
    "name": "ipython",
    "version": 3
   },
   "file_extension": ".py",
   "mimetype": "text/x-python",
   "name": "python",
   "nbconvert_exporter": "python",
   "pygments_lexer": "ipython3",
   "version": "3.10.5"
  },
  "vscode": {
   "interpreter": {
    "hash": "e05d4d356e2e751c8ff7d58c9a2a228b6b8a79db382b927e3773744fd57ca6e5"
   }
  }
 },
 "nbformat": 4,
 "nbformat_minor": 2
}
